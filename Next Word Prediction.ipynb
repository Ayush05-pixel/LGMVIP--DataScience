{
 "cells": [
  {
   "cell_type": "markdown",
   "id": "ee9f1e70",
   "metadata": {},
   "source": [
    "# LetsGrowMore (LGMVIP) - \"DATA SCIENCE INTERNSHIP\"\n",
    "## LGMVIP Aug-22\n",
    "## Ayush Dilip Padvekar\n",
    "## Task - 8 Next Word Prediction\n",
    "In this project we will be using Tensorflow and Keras library to train a RNN model and using that model we will predict the next word in the text from the dataset.\n",
    "\n",
    "Dataset Link: https://drive.google.com/file/d/1GeUzNVqiixXHnTl8oNiQ2W3CynX_lsu2/view\n",
    "\n",
    "### Importing Libraries"
   ]
  },
  {
   "cell_type": "code",
   "execution_count": 1,
   "id": "e78a9309",
   "metadata": {},
   "outputs": [],
   "source": [
    "import numpy as np\n",
    "import tensorflow as tf\n",
    "from keras.models import Sequential, load_model\n",
    "from keras.layers import LSTM\n",
    "from keras.layers.core import Dense, Activation\n",
    "from tensorflow.keras.optimizers import RMSprop\n",
    "import tensorflow_addons as tfa\n",
    "import matplotlib.pyplot as plt\n",
    "import pickle\n",
    "import heapq\n",
    "\n",
    "np.random.seed(42)\n",
    "\n",
    "import warnings\n",
    "warnings.filterwarnings(\"ignore\")"
   ]
  },
  {
   "cell_type": "markdown",
   "id": "3ca227df",
   "metadata": {},
   "source": [
    "### Loading the Dataset"
   ]
  },
  {
   "cell_type": "code",
   "execution_count": 2,
   "id": "b11d087b",
   "metadata": {},
   "outputs": [
    {
     "name": "stdout",
     "output_type": "stream",
     "text": [
      "corpus length 581888\n"
     ]
    }
   ],
   "source": [
    "path = '1661-0.txt'\n",
    "txt = open(path, encoding='utf-8').read().lower()\n",
    "print('corpus length', len(txt))"
   ]
  },
  {
   "cell_type": "code",
   "execution_count": 3,
   "id": "59765efc",
   "metadata": {},
   "outputs": [
    {
     "name": "stdout",
     "output_type": "stream",
     "text": [
      "unique chars:  73\n"
     ]
    }
   ],
   "source": [
    "chars = sorted(list(set(txt)))\n",
    "char_indices = dict((c, i) for i, c in enumerate(chars))\n",
    "indices_char = dict((i, c) for i, c in enumerate(chars))\n",
    "print (\"unique chars: \",len(chars))"
   ]
  },
  {
   "cell_type": "markdown",
   "id": "e8bae1e4",
   "metadata": {},
   "source": [
    "### Feature Engineering"
   ]
  },
  {
   "cell_type": "code",
   "execution_count": 4,
   "id": "5ba72581",
   "metadata": {},
   "outputs": [
    {
     "name": "stdout",
     "output_type": "stream",
     "text": [
      "num training examples:  193950\n"
     ]
    }
   ],
   "source": [
    "SEQUENCE_LENGTH = 39\n",
    "step = 3\n",
    "sentences = []\n",
    "next_chars = []\n",
    "for i in range(0, len(txt) - SEQUENCE_LENGTH, step):\n",
    "    sentences.append(txt[i:i+SEQUENCE_LENGTH])\n",
    "    next_chars.append(txt[i+SEQUENCE_LENGTH])\n",
    "print ('num training examples: ',len(sentences))\n"
   ]
  },
  {
   "cell_type": "code",
   "execution_count": 5,
   "id": "9e4ba3a3",
   "metadata": {},
   "outputs": [],
   "source": [
    "X = np.zeros((len(sentences), SEQUENCE_LENGTH, len(chars)), dtype=np.bool)\n",
    "y = np.zeros((len(sentences), len(chars)), dtype=np.bool)\n",
    "for i, sentence in enumerate(sentences):\n",
    "    for t, char in enumerate(sentence):\n",
    "        X[i, t, char_indices[char]] = 1\n",
    "    y[i, char_indices[next_chars[i]]] = 1"
   ]
  },
  {
   "cell_type": "code",
   "execution_count": 6,
   "id": "a855080c",
   "metadata": {},
   "outputs": [
    {
     "name": "stdout",
     "output_type": "stream",
     "text": [
      "[False False False False False False False False False False False False\n",
      " False False False False False False False False False False False False\n",
      " False False False False False False False False False False False False\n",
      " False False False False False False False False False False False False\n",
      " False False False False False False False False False False False False\n",
      " False False False False False False False False False False False False\n",
      "  True]\n"
     ]
    }
   ],
   "source": [
    "print(X[0][0])"
   ]
  },
  {
   "cell_type": "markdown",
   "id": "846d2530",
   "metadata": {},
   "source": [
    "### Model Building"
   ]
  },
  {
   "cell_type": "code",
   "execution_count": 7,
   "id": "9ffeb3ca",
   "metadata": {},
   "outputs": [
    {
     "name": "stdout",
     "output_type": "stream",
     "text": [
      "Model: \"sequential\"\n",
      "_________________________________________________________________\n",
      " Layer (type)                Output Shape              Param #   \n",
      "=================================================================\n",
      " lstm (LSTM)                 (None, 128)               103424    \n",
      "                                                                 \n",
      " dense (Dense)               (None, 73)                9417      \n",
      "                                                                 \n",
      " activation (Activation)     (None, 73)                0         \n",
      "                                                                 \n",
      "=================================================================\n",
      "Total params: 112,841\n",
      "Trainable params: 112,841\n",
      "Non-trainable params: 0\n",
      "_________________________________________________________________\n"
     ]
    }
   ],
   "source": [
    "model = Sequential();\n",
    "model.add(LSTM(128, input_shape=(SEQUENCE_LENGTH, len(chars))))\n",
    "model.add(Dense(len(chars)))\n",
    "model.add(Activation('softmax'))\n",
    "model.summary()"
   ]
  },
  {
   "cell_type": "markdown",
   "id": "12ea0966",
   "metadata": {},
   "source": [
    "### Model Training"
   ]
  },
  {
   "cell_type": "code",
   "execution_count": 8,
   "id": "d3d75203",
   "metadata": {},
   "outputs": [
    {
     "name": "stdout",
     "output_type": "stream",
     "text": [
      "Epoch 1/20\n",
      "1440/1440 [==============================] - 149s 100ms/step - loss: 1.9682 - accuracy: 0.4230 - val_loss: 2.1121 - val_accuracy: 0.4140\n",
      "Epoch 2/20\n",
      "1440/1440 [==============================] - 149s 104ms/step - loss: 1.6159 - accuracy: 0.5159 - val_loss: 2.0442 - val_accuracy: 0.4359\n",
      "Epoch 3/20\n",
      "1440/1440 [==============================] - 156s 108ms/step - loss: 1.5148 - accuracy: 0.5437 - val_loss: 2.0398 - val_accuracy: 0.4536\n",
      "Epoch 4/20\n",
      "1440/1440 [==============================] - 186s 129ms/step - loss: 1.4640 - accuracy: 0.5571 - val_loss: 2.0315 - val_accuracy: 0.4567\n",
      "Epoch 5/20\n",
      "1440/1440 [==============================] - 186s 129ms/step - loss: 1.4290 - accuracy: 0.5664 - val_loss: 2.0232 - val_accuracy: 0.4570\n",
      "Epoch 6/20\n",
      "1440/1440 [==============================] - 153s 106ms/step - loss: 1.4058 - accuracy: 0.5727 - val_loss: 2.0182 - val_accuracy: 0.4688\n",
      "Epoch 7/20\n",
      "1440/1440 [==============================] - 152s 106ms/step - loss: 1.3853 - accuracy: 0.5776 - val_loss: 2.0302 - val_accuracy: 0.4655\n",
      "Epoch 8/20\n",
      "1440/1440 [==============================] - 160s 111ms/step - loss: 1.3698 - accuracy: 0.5815 - val_loss: 2.0362 - val_accuracy: 0.4650\n",
      "Epoch 9/20\n",
      "1440/1440 [==============================] - 154s 107ms/step - loss: 1.3586 - accuracy: 0.5849 - val_loss: 2.0332 - val_accuracy: 0.4670\n",
      "Epoch 10/20\n",
      "1440/1440 [==============================] - 165s 115ms/step - loss: 1.3481 - accuracy: 0.5876 - val_loss: 2.0645 - val_accuracy: 0.4663\n",
      "Epoch 11/20\n",
      "1440/1440 [==============================] - 153s 106ms/step - loss: 1.3383 - accuracy: 0.5892 - val_loss: 2.0771 - val_accuracy: 0.4707\n",
      "Epoch 12/20\n",
      "1440/1440 [==============================] - 147s 102ms/step - loss: 1.3299 - accuracy: 0.5917 - val_loss: 2.1038 - val_accuracy: 0.4590\n",
      "Epoch 13/20\n",
      "1440/1440 [==============================] - 154s 107ms/step - loss: 1.3222 - accuracy: 0.5949 - val_loss: 2.1172 - val_accuracy: 0.4662\n",
      "Epoch 14/20\n",
      "1440/1440 [==============================] - 151s 105ms/step - loss: 1.3148 - accuracy: 0.5965 - val_loss: 2.1157 - val_accuracy: 0.4615\n",
      "Epoch 15/20\n",
      "1440/1440 [==============================] - 140s 97ms/step - loss: 1.3098 - accuracy: 0.5971 - val_loss: 2.1280 - val_accuracy: 0.4613\n",
      "Epoch 16/20\n",
      "1440/1440 [==============================] - 145s 100ms/step - loss: 1.3022 - accuracy: 0.6003 - val_loss: 2.1328 - val_accuracy: 0.4636\n",
      "Epoch 17/20\n",
      "1440/1440 [==============================] - 139s 97ms/step - loss: 1.2987 - accuracy: 0.6007 - val_loss: 2.1532 - val_accuracy: 0.4677\n",
      "Epoch 18/20\n",
      "1440/1440 [==============================] - 141s 98ms/step - loss: 1.2915 - accuracy: 0.6020 - val_loss: 2.1447 - val_accuracy: 0.4604\n",
      "Epoch 19/20\n",
      "1440/1440 [==============================] - 142s 99ms/step - loss: 1.2887 - accuracy: 0.6026 - val_loss: 2.1591 - val_accuracy: 0.4645\n",
      "Epoch 20/20\n",
      "1440/1440 [==============================] - 142s 98ms/step - loss: 1.2842 - accuracy: 0.6061 - val_loss: 2.1664 - val_accuracy: 0.4612\n"
     ]
    }
   ],
   "source": [
    "optimizer = RMSprop(lr= 0.01)\n",
    "model.compile(loss='categorical_crossentropy', optimizer=optimizer, metrics=['accuracy'])\n",
    "history = model.fit(X, y, validation_split=0.05, batch_size=128, epochs=20, shuffle=True).history"
   ]
  },
  {
   "cell_type": "markdown",
   "id": "5b0bb0b9",
   "metadata": {},
   "source": [
    "### Saving the Trained Model"
   ]
  },
  {
   "cell_type": "code",
   "execution_count": 9,
   "id": "c655ea63",
   "metadata": {},
   "outputs": [],
   "source": [
    "model.save('LGMVIP_Task8_model.h5')\n",
    "pickle.dump(history, open(\"history.p\", \"wb\"))\n",
    "model = load_model('LGMVIP_Task8_model.h5')\n",
    "history = pickle.load(open(\"history.p\", \"rb\"))"
   ]
  },
  {
   "cell_type": "markdown",
   "id": "3f560639",
   "metadata": {},
   "source": [
    "### Evaluating the Next Word Prediction Model"
   ]
  },
  {
   "cell_type": "code",
   "execution_count": 10,
   "id": "83cbb690",
   "metadata": {},
   "outputs": [
    {
     "data": {
      "image/png": "[encoded data removed]",
      "text/plain": [
       "<Figure size 432x288 with 1 Axes>"
      ]
     },
     "metadata": {
      "needs_background": "light"
     },
     "output_type": "display_data"
    }
   ],
   "source": [
    "plt.plot(history['accuracy'])\n",
    "plt.plot(history['val_accuracy'])\n",
    "plt.title('model accuracy')\n",
    "plt.ylabel('accuracy')\n",
    "plt.xlabel('epoch')\n",
    "plt.legend(['train', 'test'], loc='best')\n",
    "plt.savefig(\"Task8_Accuracy.png\")"
   ]
  },
  {
   "cell_type": "code",
   "execution_count": 11,
   "id": "a95ddf7f",
   "metadata": {},
   "outputs": [
    {
     "data": {
      "image/png": "[encoded data removed]",
      "text/plain": [
       "<Figure size 432x288 with 1 Axes>"
      ]
     },
     "metadata": {
      "needs_background": "light"
     },
     "output_type": "display_data"
    }
   ],
   "source": [
    "plt.plot(history['loss'])\n",
    "plt.plot(history['val_loss'])\n",
    "plt.title('model loss')\n",
    "plt.ylabel('loss')\n",
    "plt.xlabel('epoch')\n",
    "plt.legend(['train', 'test'], loc= 'best')\n",
    "plt.savefig(\"Task8_Loss.png\")"
   ]
  },
  {
   "cell_type": "markdown",
   "id": "d07707ce",
   "metadata": {},
   "source": [
    "### Testing Next Word Prediction Model"
   ]
  },
  {
   "cell_type": "code",
   "execution_count": 12,
   "id": "404de984",
   "metadata": {},
   "outputs": [],
   "source": [
    "def prepare_input(text):\n",
    "    x = np.zeros((1, SEQUENCE_LENGTH, len(chars)))\n",
    "    for t, char in enumerate(text):\n",
    "        x[0, t, char_indices[char]] = 1\n",
    "    return x"
   ]
  },
  {
   "cell_type": "markdown",
   "id": "aa724971",
   "metadata": {},
   "source": [
    "### The Sample function"
   ]
  },
  {
   "cell_type": "code",
   "execution_count": 13,
   "id": "a889a1c0",
   "metadata": {},
   "outputs": [],
   "source": [
    "def sample(preds, top_n = 3):\n",
    "    preds = np.asarray(preds).astype('float64')\n",
    "    preds = np.log(preds)\n",
    "    exp_preds = np.exp(preds)\n",
    "    preds = exp_preds / np.sum(exp_preds)\n",
    "    return heapq.nlargest(top_n, range(len(preds)), preds.take)"
   ]
  },
  {
   "cell_type": "markdown",
   "id": "cf2ebe6f",
   "metadata": {},
   "source": [
    "### Prediction function"
   ]
  },
  {
   "cell_type": "code",
   "execution_count": 14,
   "id": "4b4b9d22",
   "metadata": {},
   "outputs": [],
   "source": [
    "def predict_completion(text):\n",
    "    original_text = text\n",
    "    generalised = text\n",
    "    completion = ''\n",
    "    while True:\n",
    "        x = prepare_input(text)\n",
    "        preds = model.predict(x, verbose=0)[0]\n",
    "        next_index = sample(preds, top_n=1)[0]\n",
    "        next_char = indices_char[next_index]\n",
    "    text = txt[1:] + next_char\n",
    "    completion += next_char\n",
    "    if len(original_text + completion) + 2 > len(original_text) and next_char == ' ':\n",
    "                return completion"
   ]
  },
  {
   "cell_type": "markdown",
   "id": "fe919edc",
   "metadata": {},
   "source": [
    "### Prediction of multiple completions"
   ]
  },
  {
   "cell_type": "code",
   "execution_count": 15,
   "id": "199924c2",
   "metadata": {},
   "outputs": [],
   "source": [
    "def predict_completions(text, n = 3):\n",
    "    x = prepare_input(text)\n",
    "    preds = model.predict(x, verbose=0)[0]\n",
    "    next_indices = sample(preds, n)\n",
    "    return [indices_char[idx] + predict_completion(text[1:] + indices_char[idx]) for idx in next_indices]"
   ]
  },
  {
   "cell_type": "code",
   "execution_count": 16,
   "id": "b21acec4",
   "metadata": {},
   "outputs": [],
   "source": [
    "# Sample Test case\n",
    "quotes = [\n",
    "    \"It is not a lack of love, but a lack of friendship that makes unhappy marriages.\",\n",
    "    \"That which does not kill us makes us stronger.\",\n",
    "    \"I'm not upset that you lied to me, I'm upset that from now on I can't believe you.\",\n",
    "    \"And those who were seen dancing were thought to be insane by those who could not hear the music.\",\n",
    "    \"It is hard enough to remember my opinions, without also remembering my reasons for them!\"\n",
    "]"
   ]
  },
  {
   "cell_type": "code",
   "execution_count": null,
   "id": "a7f08195",
   "metadata": {},
   "outputs": [
    {
     "name": "stdout",
     "output_type": "stream",
     "text": [
      "it is not a lack of love, but a lack of\n"
     ]
    }
   ],
   "source": [
    "for q in quotes:\n",
    "    seq = q[:SEQUENCE_LENGTH].lower()\n",
    "    print (seq)\n",
    "    print (predict_completions(seq, 5))\n",
    "    print ()"
   ]
  },
  {
   "cell_type": "code",
   "execution_count": null,
   "id": "d4178836",
   "metadata": {},
   "outputs": [],
   "source": []
  }
 ],
 "metadata": {
  "kernelspec": {
   "display_name": "Python 3 (ipykernel)",
   "language": "python",
   "name": "python3"
  },
  "language_info": {
   "codemirror_mode": {
    "name": "ipython",
    "version": 3
   },
   "file_extension": ".py",
   "mimetype": "text/x-python",
   "name": "python",
   "nbconvert_exporter": "python",
   "pygments_lexer": "ipython3",
   "version": "3.9.12"
  }
 },
 "nbformat": 4,
 "nbformat_minor": 5
}
